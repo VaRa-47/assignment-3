{
 "cells": [
  {
   "cell_type": "code",
   "execution_count": 10,
   "id": "16d0b081",
   "metadata": {},
   "outputs": [],
   "source": [
    "import numpy as np\n",
    "import pandas as pd\n",
    "import matplotlib.pyplot as plt\n",
    "from sklearn.linear_model import SGDRegressor\n",
    "from sklearn.preprocessing import StandardScaler\n",
    "from sklearn.metrics import r2_score"
   ]
  },
  {
   "cell_type": "code",
   "execution_count": 11,
   "id": "1d5b8fab",
   "metadata": {},
   "outputs": [],
   "source": [
    "ds = pd.read_csv('Fish.csv')\n",
    "y_train = ds.Weight.values.tolist()\n",
    "x_train = ds[[\"Species\",\"Length1\",\"Length2\",\"Length3\",\"Height\",\"Width\"]].to_numpy()\n",
    "x_train[x_train ==\"Bream\"] = 1\n",
    "x_train[x_train ==\"Roach\"] = 2\n",
    "x_train[x_train ==\"Whitefish\"] = 3\n",
    "x_train[x_train ==\"Parkki\"] = 4\n",
    "x_train[x_train ==\"Perch\"] = 5\n",
    "x_train[x_train ==\"Pike\"] = 6\n",
    "x_train[x_train ==\"Smelt\"] = 7\n",
    "scaler = StandardScaler()\n",
    "x_norm = scaler.fit_transform(x_train)"
   ]
  },
  {
   "cell_type": "code",
   "execution_count": 12,
   "id": "c8a1bb7c",
   "metadata": {},
   "outputs": [
    {
     "name": "stdout",
     "output_type": "stream",
     "text": [
      "SGDRegressor()\n",
      "number of iterations completed: 53, number of weight updates: 8428.0\n"
     ]
    }
   ],
   "source": [
    "sgdr = SGDRegressor(max_iter=1000)\n",
    "sgdr.fit(x_norm, y_train)\n",
    "print(sgdr)\n",
    "print(f\"number of iterations completed: {sgdr.n_iter_}, number of weight updates: {sgdr.t_}\")"
   ]
  },
  {
   "cell_type": "code",
   "execution_count": 13,
   "id": "5818bd24",
   "metadata": {},
   "outputs": [
    {
     "name": "stdout",
     "output_type": "stream",
     "text": [
      "Prediction on training set:\n",
      "[308.32624546 363.19126338 378.39418    421.74007683]\n",
      "Target values \n",
      "[242.0, 290.0, 340.0, 363.0]\n",
      "r2 score  0.8957693807349014\n",
      "coef [ 62.71023333  65.90236663  64.85105911  69.98709476 106.10973301\n",
      "  76.57066219] intercept [398.44250219]\n"
     ]
    }
   ],
   "source": [
    "b_norm = sgdr.intercept_\n",
    "w_norm = sgdr.coef_\n",
    "y_pred_sgd = sgdr.predict(x_norm)\n",
    "y_pred = np.dot(x_norm, w_norm) + b_norm  \n",
    "print(f\"Prediction on training set:\\n{y_pred_sgd[:4]}\" )\n",
    "print(f\"Target values \\n{y_train[:4]}\")\n",
    "print(\"r2 score \", r2_score(y_train,y_pred))\n",
    "print(\"coef\", sgdr.coef_,\"intercept\", sgdr.intercept_)"
   ]
  },
  {
   "cell_type": "code",
   "execution_count": null,
   "id": "4e116f41",
   "metadata": {},
   "outputs": [],
   "source": []
  },
  {
   "cell_type": "code",
   "execution_count": null,
   "id": "008e9689",
   "metadata": {},
   "outputs": [],
   "source": []
  }
 ],
 "metadata": {
  "kernelspec": {
   "display_name": "Python 3 (ipykernel)",
   "language": "python",
   "name": "python3"
  },
  "language_info": {
   "codemirror_mode": {
    "name": "ipython",
    "version": 3
   },
   "file_extension": ".py",
   "mimetype": "text/x-python",
   "name": "python",
   "nbconvert_exporter": "python",
   "pygments_lexer": "ipython3",
   "version": "3.9.12"
  }
 },
 "nbformat": 4,
 "nbformat_minor": 5
}
